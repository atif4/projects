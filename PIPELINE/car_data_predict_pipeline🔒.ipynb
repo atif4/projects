{
 "cells": [
  {
   "cell_type": "code",
   "execution_count": 11,
   "id": "9fbaeeb3",
   "metadata": {},
   "outputs": [],
   "source": [
    "#hide earrings \n",
    "import warnings\n",
    "warnings.filterwarnings('ignore')\n",
    "import pickle\n",
    "import numpy as np "
   ]
  },
  {
   "cell_type": "code",
   "execution_count": 12,
   "id": "57dbdf89",
   "metadata": {},
   "outputs": [],
   "source": [
    "#here we decoding\n",
    "pipe = pickle.load(open('pipesvc.pkl','rb'))"
   ]
  },
  {
   "cell_type": "code",
   "execution_count": 15,
   "id": "84662761",
   "metadata": {},
   "outputs": [],
   "source": [
    "test_input2 = np.array([385,'Male',35,20000],dtype='object').reshape(1,4)"
   ]
  },
  {
   "cell_type": "code",
   "execution_count": 16,
   "id": "fea57739",
   "metadata": {},
   "outputs": [
    {
     "data": {
      "text/plain": [
       "array([0], dtype=int64)"
      ]
     },
     "execution_count": 16,
     "metadata": {},
     "output_type": "execute_result"
    }
   ],
   "source": [
    "pipe.predict(test_input2)"
   ]
  },
  {
   "cell_type": "code",
   "execution_count": null,
   "id": "a6db90cf",
   "metadata": {},
   "outputs": [],
   "source": []
  }
 ],
 "metadata": {
  "kernelspec": {
   "display_name": "Python 3 (ipykernel)",
   "language": "python",
   "name": "python3"
  },
  "language_info": {
   "codemirror_mode": {
    "name": "ipython",
    "version": 3
   },
   "file_extension": ".py",
   "mimetype": "text/x-python",
   "name": "python",
   "nbconvert_exporter": "python",
   "pygments_lexer": "ipython3",
   "version": "3.9.12"
  }
 },
 "nbformat": 4,
 "nbformat_minor": 5
}
